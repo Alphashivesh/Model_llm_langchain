{
 "cells": [
  {
   "cell_type": "code",
   "execution_count": null,
   "id": "df7e1b78-3ffa-4003-ab40-92913d4c4eef",
   "metadata": {},
   "outputs": [],
   "source": [
    "#this llm or model is being design using langchain and ollama framework to run the llm locally."
   ]
  },
  {
   "cell_type": "code",
   "execution_count": 3,
   "id": "04eaed9c-db80-4de1-8486-91eabc27a348",
   "metadata": {},
   "outputs": [
    {
     "name": "stdout",
     "output_type": "stream",
     "text": [
      "Requirement already satisfied: langchain-ollama in c:\\users\\shive\\appdata\\local\\programs\\python\\python312\\lib\\site-packages (0.3.3)\n",
      "Requirement already satisfied: ollama<1.0.0,>=0.4.8 in c:\\users\\shive\\appdata\\local\\programs\\python\\python312\\lib\\site-packages (from langchain-ollama) (0.5.1)\n",
      "Requirement already satisfied: langchain-core<1.0.0,>=0.3.60 in c:\\users\\shive\\appdata\\local\\programs\\python\\python312\\lib\\site-packages (from langchain-ollama) (0.3.65)\n",
      "Requirement already satisfied: langsmith<0.4,>=0.3.45 in c:\\users\\shive\\appdata\\local\\programs\\python\\python312\\lib\\site-packages (from langchain-core<1.0.0,>=0.3.60->langchain-ollama) (0.3.45)\n",
      "Requirement already satisfied: tenacity!=8.4.0,<10.0.0,>=8.1.0 in c:\\users\\shive\\appdata\\local\\programs\\python\\python312\\lib\\site-packages (from langchain-core<1.0.0,>=0.3.60->langchain-ollama) (9.0.0)\n",
      "Requirement already satisfied: jsonpatch<2.0,>=1.33 in c:\\users\\shive\\appdata\\local\\programs\\python\\python312\\lib\\site-packages (from langchain-core<1.0.0,>=0.3.60->langchain-ollama) (1.33)\n",
      "Requirement already satisfied: PyYAML>=5.3 in c:\\users\\shive\\appdata\\local\\programs\\python\\python312\\lib\\site-packages (from langchain-core<1.0.0,>=0.3.60->langchain-ollama) (6.0.2)\n",
      "Requirement already satisfied: packaging<25,>=23.2 in c:\\users\\shive\\appdata\\local\\programs\\python\\python312\\lib\\site-packages (from langchain-core<1.0.0,>=0.3.60->langchain-ollama) (24.1)\n",
      "Requirement already satisfied: typing-extensions>=4.7 in c:\\users\\shive\\appdata\\local\\programs\\python\\python312\\lib\\site-packages (from langchain-core<1.0.0,>=0.3.60->langchain-ollama) (4.12.2)\n",
      "Requirement already satisfied: pydantic>=2.7.4 in c:\\users\\shive\\appdata\\local\\programs\\python\\python312\\lib\\site-packages (from langchain-core<1.0.0,>=0.3.60->langchain-ollama) (2.10.4)\n",
      "Requirement already satisfied: jsonpointer>=1.9 in c:\\users\\shive\\appdata\\local\\programs\\python\\python312\\lib\\site-packages (from jsonpatch<2.0,>=1.33->langchain-core<1.0.0,>=0.3.60->langchain-ollama) (3.0.0)\n",
      "Requirement already satisfied: httpx<1,>=0.23.0 in c:\\users\\shive\\appdata\\local\\programs\\python\\python312\\lib\\site-packages (from langsmith<0.4,>=0.3.45->langchain-core<1.0.0,>=0.3.60->langchain-ollama) (0.28.1)\n",
      "Requirement already satisfied: orjson<4.0.0,>=3.9.14 in c:\\users\\shive\\appdata\\local\\programs\\python\\python312\\lib\\site-packages (from langsmith<0.4,>=0.3.45->langchain-core<1.0.0,>=0.3.60->langchain-ollama) (3.10.18)\n",
      "Requirement already satisfied: requests<3,>=2 in c:\\users\\shive\\appdata\\local\\programs\\python\\python312\\lib\\site-packages (from langsmith<0.4,>=0.3.45->langchain-core<1.0.0,>=0.3.60->langchain-ollama) (2.32.3)\n",
      "Requirement already satisfied: requests-toolbelt<2.0.0,>=1.0.0 in c:\\users\\shive\\appdata\\local\\programs\\python\\python312\\lib\\site-packages (from langsmith<0.4,>=0.3.45->langchain-core<1.0.0,>=0.3.60->langchain-ollama) (1.0.0)\n",
      "Requirement already satisfied: zstandard<0.24.0,>=0.23.0 in c:\\users\\shive\\appdata\\local\\programs\\python\\python312\\lib\\site-packages (from langsmith<0.4,>=0.3.45->langchain-core<1.0.0,>=0.3.60->langchain-ollama) (0.23.0)\n",
      "Requirement already satisfied: anyio in c:\\users\\shive\\appdata\\local\\programs\\python\\python312\\lib\\site-packages (from httpx<1,>=0.23.0->langsmith<0.4,>=0.3.45->langchain-core<1.0.0,>=0.3.60->langchain-ollama) (4.7.0)\n",
      "Requirement already satisfied: certifi in c:\\users\\shive\\appdata\\local\\programs\\python\\python312\\lib\\site-packages (from httpx<1,>=0.23.0->langsmith<0.4,>=0.3.45->langchain-core<1.0.0,>=0.3.60->langchain-ollama) (2024.8.30)\n",
      "Requirement already satisfied: httpcore==1.* in c:\\users\\shive\\appdata\\local\\programs\\python\\python312\\lib\\site-packages (from httpx<1,>=0.23.0->langsmith<0.4,>=0.3.45->langchain-core<1.0.0,>=0.3.60->langchain-ollama) (1.0.7)\n",
      "Requirement already satisfied: idna in c:\\users\\shive\\appdata\\local\\programs\\python\\python312\\lib\\site-packages (from httpx<1,>=0.23.0->langsmith<0.4,>=0.3.45->langchain-core<1.0.0,>=0.3.60->langchain-ollama) (3.10)\n",
      "Requirement already satisfied: h11<0.15,>=0.13 in c:\\users\\shive\\appdata\\local\\programs\\python\\python312\\lib\\site-packages (from httpcore==1.*->httpx<1,>=0.23.0->langsmith<0.4,>=0.3.45->langchain-core<1.0.0,>=0.3.60->langchain-ollama) (0.14.0)\n",
      "Requirement already satisfied: annotated-types>=0.6.0 in c:\\users\\shive\\appdata\\local\\programs\\python\\python312\\lib\\site-packages (from pydantic>=2.7.4->langchain-core<1.0.0,>=0.3.60->langchain-ollama) (0.7.0)\n",
      "Requirement already satisfied: pydantic-core==2.27.2 in c:\\users\\shive\\appdata\\local\\programs\\python\\python312\\lib\\site-packages (from pydantic>=2.7.4->langchain-core<1.0.0,>=0.3.60->langchain-ollama) (2.27.2)\n",
      "Requirement already satisfied: charset-normalizer<4,>=2 in c:\\users\\shive\\appdata\\local\\programs\\python\\python312\\lib\\site-packages (from requests<3,>=2->langsmith<0.4,>=0.3.45->langchain-core<1.0.0,>=0.3.60->langchain-ollama) (3.4.0)\n",
      "Requirement already satisfied: urllib3<3,>=1.21.1 in c:\\users\\shive\\appdata\\local\\programs\\python\\python312\\lib\\site-packages (from requests<3,>=2->langsmith<0.4,>=0.3.45->langchain-core<1.0.0,>=0.3.60->langchain-ollama) (2.2.3)\n",
      "Requirement already satisfied: sniffio>=1.1 in c:\\users\\shive\\appdata\\local\\programs\\python\\python312\\lib\\site-packages (from anyio->httpx<1,>=0.23.0->langsmith<0.4,>=0.3.45->langchain-core<1.0.0,>=0.3.60->langchain-ollama) (1.3.1)\n",
      "Requirement already satisfied: python-dotenv in c:\\users\\shive\\appdata\\local\\programs\\python\\python312\\lib\\site-packages (1.0.1)\n"
     ]
    }
   ],
   "source": [
    "!pip install langchain-ollama\n",
    "!pip install python-dotenv"
   ]
  },
  {
   "cell_type": "code",
   "execution_count": 1,
   "id": "433cd0af-6a10-48f9-828b-9aa34a09d173",
   "metadata": {},
   "outputs": [
    {
     "name": "stdout",
     "output_type": "stream",
     "text": [
      "the whole response is: \n",
      " content=\"Rugby is a full-contact team sport that originated in the United Kingdom in the early 19th century. It is played with an oval-shaped ball and involves two teams of 15 players each, trying to score points by carrying or passing the ball into the end zone of the opponent's field.\\n\\nThe objective of rugby is to score more points than the opposing team by:\\n\\n1. Scoring tries (5 points): carrying the ball into the end zone and touching it to the ground.\\n2. Kicking for points (3-7 points): kicking the ball through the opponent's goalposts.\\n3. Converting tries (2 points): kicking the ball through the opponent's goalposts after a try.\\n\\nHere's a brief overview of how the game is played:\\n\\n1. The game starts with a kickoff, where one team kicks the ball to the other team.\\n2. Players can run with the ball, pass it to teammates, or kick it.\\n3. Teams take turns playing offense (trying to score) and defense (trying to stop the opponent from scoring).\\n4. The game is divided into two 40-minute halves.\\n5. The team with the most points at the end of the two halves wins.\\n\\nSome key rules and concepts in rugby include:\\n\\n* Tackling: players can tackle an opponent to gain possession of the ball.\\n* Rucks and mauls: when a player is tackled, their teammates will form a group (ruck or maul) to try to retrieve the ball.\\n* Lineouts: when the ball goes out of bounds, the game is restarted with a lineout, where players from both teams gather on either side of the ball.\\n* Scrum: when the ball is passed back into play after a minor infringement, the game is restarted with a scrum.\\n\\nRugby has different variations, including:\\n\\n* Rugby Union: the most popular version, played with 15 players per team.\\n* Rugby League: a variation played with 13 players per team.\\n* Sevens Rugby: a shorter version of rugby union, played with 7 players per team.\\n\\nOverall, rugby is a physically demanding and tactically complex sport that requires strength, speed, agility, and strategy.\" additional_kwargs={} response_metadata={'model': 'llama3.2:3b', 'created_at': '2025-06-20T10:59:24.4580084Z', 'done': True, 'done_reason': 'stop', 'total_duration': 46934923800, 'load_duration': 8367407300, 'prompt_eval_count': 32, 'prompt_eval_duration': 3774835900, 'eval_count': 450, 'eval_duration': 34734098200, 'model_name': 'llama3.2:3b'} id='run--2cb9dfae-21ae-478e-9a29-1ef57a154199-0' usage_metadata={'input_tokens': 32, 'output_tokens': 450, 'total_tokens': 482} \n",
      "\n",
      "the content part: \n",
      " Rugby is a full-contact team sport that originated in the United Kingdom in the early 19th century. It is played with an oval-shaped ball and involves two teams of 15 players each, trying to score points by carrying or passing the ball into the end zone of the opponent's field.\n",
      "\n",
      "The objective of rugby is to score more points than the opposing team by:\n",
      "\n",
      "1. Scoring tries (5 points): carrying the ball into the end zone and touching it to the ground.\n",
      "2. Kicking for points (3-7 points): kicking the ball through the opponent's goalposts.\n",
      "3. Converting tries (2 points): kicking the ball through the opponent's goalposts after a try.\n",
      "\n",
      "Here's a brief overview of how the game is played:\n",
      "\n",
      "1. The game starts with a kickoff, where one team kicks the ball to the other team.\n",
      "2. Players can run with the ball, pass it to teammates, or kick it.\n",
      "3. Teams take turns playing offense (trying to score) and defense (trying to stop the opponent from scoring).\n",
      "4. The game is divided into two 40-minute halves.\n",
      "5. The team with the most points at the end of the two halves wins.\n",
      "\n",
      "Some key rules and concepts in rugby include:\n",
      "\n",
      "* Tackling: players can tackle an opponent to gain possession of the ball.\n",
      "* Rucks and mauls: when a player is tackled, their teammates will form a group (ruck or maul) to try to retrieve the ball.\n",
      "* Lineouts: when the ball goes out of bounds, the game is restarted with a lineout, where players from both teams gather on either side of the ball.\n",
      "* Scrum: when the ball is passed back into play after a minor infringement, the game is restarted with a scrum.\n",
      "\n",
      "Rugby has different variations, including:\n",
      "\n",
      "* Rugby Union: the most popular version, played with 15 players per team.\n",
      "* Rugby League: a variation played with 13 players per team.\n",
      "* Sevens Rugby: a shorter version of rugby union, played with 7 players per team.\n",
      "\n",
      "Overall, rugby is a physically demanding and tactically complex sport that requires strength, speed, agility, and strategy. \n",
      "\n",
      "the metadata part \n",
      " {'model': 'llama3.2:3b', 'created_at': '2025-06-20T10:59:24.4580084Z', 'done': True, 'done_reason': 'stop', 'total_duration': 46934923800, 'load_duration': 8367407300, 'prompt_eval_count': 32, 'prompt_eval_duration': 3774835900, 'eval_count': 450, 'eval_duration': 34734098200, 'model_name': 'llama3.2:3b'} \n",
      "\n"
     ]
    },
    {
     "data": {
      "text/plain": [
       "'token_usage, model, model_version, and other metadata,\\nollama_parameters: A dictionary of the parameters (like temperature, max_tokens, top_k, top_p, seed, etc.), and\\nfinish_reason: Why the model stopped generating (e.g., \"stop\" for natural end, \"length\" for hitting max_tokens).'"
      ]
     },
     "execution_count": 1,
     "metadata": {},
     "output_type": "execute_result"
    }
   ],
   "source": [
    "from langchain_ollama import ChatOllama\n",
    "\n",
    "\"\"\"The ChatOllama class is a specific implementation within LangChain that allows you to interact\n",
    "with large language models (LLMs) served locally via the Ollama platform. It provides a standardized\n",
    "interface for sending prompts and receiving responses from these models. \"\"\"\n",
    "\n",
    "from dotenv import load_dotenv\n",
    "\n",
    "\"\"\"Another important module as it is load variable environment from your .env file, this file is\n",
    "generally used for storing the API keys.\"\"\"\n",
    "\n",
    "load_dotenv()\n",
    "\n",
    "\"\"\"calling the .env file to get the API key.\"\"\"\n",
    "\n",
    "model = ChatOllama(\n",
    "    model = \"llama3.2:3b\",\n",
    "    temperature = 1.5,\n",
    "    max_tokens = 1000\n",
    ")\n",
    "\n",
    "\"\"\"creates an instance to connect with the required model of the ollama and also set the other variables\n",
    "like temperature and max_tokens for the randomness(ranging from 0 to 2) and maximum number output tokens\n",
    "respectively, 0 for more repetitive and deterministic while 2 for most random and creative.\"\"\"\n",
    "\n",
    "result = model.invoke(\"What is the game of rugby?\")\n",
    "\n",
    "\"\"\"invoke method is used to send the prompt to the model and get the response back and stored in result.\"\"\"\n",
    "\n",
    "print(\"the whole response is: \\n\", result, \"\\n\")\n",
    "\n",
    "\"\"\"it contains content and response_metadata (which holds the \"meta-model\" information you're likely thinking of).\"\"\"\n",
    "\n",
    "print(\"the content part: \\n\", result.content, \"\\n\")\n",
    "\n",
    "print(\"the metadata part \\n\", result.response_metadata,\"\\n\")\n",
    "\n",
    "\"\"\"token_usage, model, model_version, and other metadata,\n",
    "ollama_parameters: A dictionary of the parameters (like temperature, max_tokens, top_k, top_p, seed, etc.), and\n",
    "finish_reason: Why the model stopped generating (e.g., \"stop\" for natural end, \"length\" for hitting max_tokens).\"\"\"\n",
    "\n"
   ]
  },
  {
   "cell_type": "code",
   "execution_count": null,
   "id": "22a10b18-b62f-4ef0-b1b0-723653e67bb9",
   "metadata": {},
   "outputs": [],
   "source": []
  }
 ],
 "metadata": {
  "kernelspec": {
   "display_name": "Python 3 (ipykernel)",
   "language": "python",
   "name": "python3"
  },
  "language_info": {
   "codemirror_mode": {
    "name": "ipython",
    "version": 3
   },
   "file_extension": ".py",
   "mimetype": "text/x-python",
   "name": "python",
   "nbconvert_exporter": "python",
   "pygments_lexer": "ipython3",
   "version": "3.12.6"
  }
 },
 "nbformat": 4,
 "nbformat_minor": 5
}
