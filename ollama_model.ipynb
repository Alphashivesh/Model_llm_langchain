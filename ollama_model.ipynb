{
 "cells": [
  {
   "cell_type": "code",
   "execution_count": null,
   "id": "df7e1b78-3ffa-4003-ab40-92913d4c4eef",
   "metadata": {},
   "outputs": [],
   "source": [
    "#this llm or model is being design using langchain and ollama framework to run the llm locally."
   ]
  },
  {
   "cell_type": "code",
   "execution_count": 3,
   "id": "04eaed9c-db80-4de1-8486-91eabc27a348",
   "metadata": {},
   "outputs": [
    {
     "name": "stdout",
     "output_type": "stream",
     "text": [
      "Requirement already satisfied: langchain-ollama in c:\\users\\shive\\appdata\\local\\programs\\python\\python312\\lib\\site-packages (0.3.3)\n",
      "Requirement already satisfied: ollama<1.0.0,>=0.4.8 in c:\\users\\shive\\appdata\\local\\programs\\python\\python312\\lib\\site-packages (from langchain-ollama) (0.5.1)\n",
      "Requirement already satisfied: langchain-core<1.0.0,>=0.3.60 in c:\\users\\shive\\appdata\\local\\programs\\python\\python312\\lib\\site-packages (from langchain-ollama) (0.3.65)\n",
      "Requirement already satisfied: langsmith<0.4,>=0.3.45 in c:\\users\\shive\\appdata\\local\\programs\\python\\python312\\lib\\site-packages (from langchain-core<1.0.0,>=0.3.60->langchain-ollama) (0.3.45)\n",
      "Requirement already satisfied: tenacity!=8.4.0,<10.0.0,>=8.1.0 in c:\\users\\shive\\appdata\\local\\programs\\python\\python312\\lib\\site-packages (from langchain-core<1.0.0,>=0.3.60->langchain-ollama) (9.0.0)\n",
      "Requirement already satisfied: jsonpatch<2.0,>=1.33 in c:\\users\\shive\\appdata\\local\\programs\\python\\python312\\lib\\site-packages (from langchain-core<1.0.0,>=0.3.60->langchain-ollama) (1.33)\n",
      "Requirement already satisfied: PyYAML>=5.3 in c:\\users\\shive\\appdata\\local\\programs\\python\\python312\\lib\\site-packages (from langchain-core<1.0.0,>=0.3.60->langchain-ollama) (6.0.2)\n",
      "Requirement already satisfied: packaging<25,>=23.2 in c:\\users\\shive\\appdata\\local\\programs\\python\\python312\\lib\\site-packages (from langchain-core<1.0.0,>=0.3.60->langchain-ollama) (24.1)\n",
      "Requirement already satisfied: typing-extensions>=4.7 in c:\\users\\shive\\appdata\\local\\programs\\python\\python312\\lib\\site-packages (from langchain-core<1.0.0,>=0.3.60->langchain-ollama) (4.12.2)\n",
      "Requirement already satisfied: pydantic>=2.7.4 in c:\\users\\shive\\appdata\\local\\programs\\python\\python312\\lib\\site-packages (from langchain-core<1.0.0,>=0.3.60->langchain-ollama) (2.10.4)\n",
      "Requirement already satisfied: jsonpointer>=1.9 in c:\\users\\shive\\appdata\\local\\programs\\python\\python312\\lib\\site-packages (from jsonpatch<2.0,>=1.33->langchain-core<1.0.0,>=0.3.60->langchain-ollama) (3.0.0)\n",
      "Requirement already satisfied: httpx<1,>=0.23.0 in c:\\users\\shive\\appdata\\local\\programs\\python\\python312\\lib\\site-packages (from langsmith<0.4,>=0.3.45->langchain-core<1.0.0,>=0.3.60->langchain-ollama) (0.28.1)\n",
      "Requirement already satisfied: orjson<4.0.0,>=3.9.14 in c:\\users\\shive\\appdata\\local\\programs\\python\\python312\\lib\\site-packages (from langsmith<0.4,>=0.3.45->langchain-core<1.0.0,>=0.3.60->langchain-ollama) (3.10.18)\n",
      "Requirement already satisfied: requests<3,>=2 in c:\\users\\shive\\appdata\\local\\programs\\python\\python312\\lib\\site-packages (from langsmith<0.4,>=0.3.45->langchain-core<1.0.0,>=0.3.60->langchain-ollama) (2.32.3)\n",
      "Requirement already satisfied: requests-toolbelt<2.0.0,>=1.0.0 in c:\\users\\shive\\appdata\\local\\programs\\python\\python312\\lib\\site-packages (from langsmith<0.4,>=0.3.45->langchain-core<1.0.0,>=0.3.60->langchain-ollama) (1.0.0)\n",
      "Requirement already satisfied: zstandard<0.24.0,>=0.23.0 in c:\\users\\shive\\appdata\\local\\programs\\python\\python312\\lib\\site-packages (from langsmith<0.4,>=0.3.45->langchain-core<1.0.0,>=0.3.60->langchain-ollama) (0.23.0)\n",
      "Requirement already satisfied: anyio in c:\\users\\shive\\appdata\\local\\programs\\python\\python312\\lib\\site-packages (from httpx<1,>=0.23.0->langsmith<0.4,>=0.3.45->langchain-core<1.0.0,>=0.3.60->langchain-ollama) (4.7.0)\n",
      "Requirement already satisfied: certifi in c:\\users\\shive\\appdata\\local\\programs\\python\\python312\\lib\\site-packages (from httpx<1,>=0.23.0->langsmith<0.4,>=0.3.45->langchain-core<1.0.0,>=0.3.60->langchain-ollama) (2024.8.30)\n",
      "Requirement already satisfied: httpcore==1.* in c:\\users\\shive\\appdata\\local\\programs\\python\\python312\\lib\\site-packages (from httpx<1,>=0.23.0->langsmith<0.4,>=0.3.45->langchain-core<1.0.0,>=0.3.60->langchain-ollama) (1.0.7)\n",
      "Requirement already satisfied: idna in c:\\users\\shive\\appdata\\local\\programs\\python\\python312\\lib\\site-packages (from httpx<1,>=0.23.0->langsmith<0.4,>=0.3.45->langchain-core<1.0.0,>=0.3.60->langchain-ollama) (3.10)\n",
      "Requirement already satisfied: h11<0.15,>=0.13 in c:\\users\\shive\\appdata\\local\\programs\\python\\python312\\lib\\site-packages (from httpcore==1.*->httpx<1,>=0.23.0->langsmith<0.4,>=0.3.45->langchain-core<1.0.0,>=0.3.60->langchain-ollama) (0.14.0)\n",
      "Requirement already satisfied: annotated-types>=0.6.0 in c:\\users\\shive\\appdata\\local\\programs\\python\\python312\\lib\\site-packages (from pydantic>=2.7.4->langchain-core<1.0.0,>=0.3.60->langchain-ollama) (0.7.0)\n",
      "Requirement already satisfied: pydantic-core==2.27.2 in c:\\users\\shive\\appdata\\local\\programs\\python\\python312\\lib\\site-packages (from pydantic>=2.7.4->langchain-core<1.0.0,>=0.3.60->langchain-ollama) (2.27.2)\n",
      "Requirement already satisfied: charset-normalizer<4,>=2 in c:\\users\\shive\\appdata\\local\\programs\\python\\python312\\lib\\site-packages (from requests<3,>=2->langsmith<0.4,>=0.3.45->langchain-core<1.0.0,>=0.3.60->langchain-ollama) (3.4.0)\n",
      "Requirement already satisfied: urllib3<3,>=1.21.1 in c:\\users\\shive\\appdata\\local\\programs\\python\\python312\\lib\\site-packages (from requests<3,>=2->langsmith<0.4,>=0.3.45->langchain-core<1.0.0,>=0.3.60->langchain-ollama) (2.2.3)\n",
      "Requirement already satisfied: sniffio>=1.1 in c:\\users\\shive\\appdata\\local\\programs\\python\\python312\\lib\\site-packages (from anyio->httpx<1,>=0.23.0->langsmith<0.4,>=0.3.45->langchain-core<1.0.0,>=0.3.60->langchain-ollama) (1.3.1)\n",
      "Requirement already satisfied: python-dotenv in c:\\users\\shive\\appdata\\local\\programs\\python\\python312\\lib\\site-packages (1.0.1)\n"
     ]
    }
   ],
   "source": [
    "!pip install langchain-ollama\n",
    "!pip install python-dotenv"
   ]
  },
  {
   "cell_type": "code",
   "execution_count": 4,
   "id": "433cd0af-6a10-48f9-828b-9aa34a09d173",
   "metadata": {},
   "outputs": [
    {
     "name": "stdout",
     "output_type": "stream",
     "text": [
      "the whole response is: \n",
      " content='Kabaddi is a popular contact team sport that originated in ancient India and has since spread to become a widely played sport across the globe, particularly in Asia. The name \"kabaddi\" comes from the Hindi word \"kabhaddi,\" which means \"hold on\" or \"catch up.\"\\n\\nHere\\'s a brief overview of the game:\\n\\n**Objective:**\\nThe objective of kabaddi is for one team to score points by tagging players from the opposing team and returning to their own side without being caught.\\n\\n**Gameplay:**\\n\\n* The game is played between two teams, each consisting of seven players.\\n* One player from the attacking team sends a raider (similar to a point-scorer in other sports) to the opposite team\\'s court.\\n* The raider must touch the floor and hold their breath while chanting \"kabaddi\" to indicate that they are taking possession of an opponent.\\n* The raider can tag multiple players from the opposing team, but each time they do so, they lose some air (time) to breathe. If the raider loses all their remaining air before tagging all the opponents and returning to their own side, the attacking team scores points.\\n* When a raider is tagged by an opponent while holding breath, they must freeze in place until they catch their breath.\\n* Players can also score points through blocks (successful defense) or by making a tackle on the opponent, causing them to lose possession.\\n\\n**Types of kabaddi:**\\nThere are two main formats of kabaddi:\\n\\n1. **Revised Kabaddi**: Also known as Indian Kabaddi, this format has undergone significant rule changes to make the game more exciting and safer for players.\\n2. **Pro Kabaddi League (PKL)**: A professional kabaddi league that features international players competing against each other in a tournament-like format.\\n\\n**Physical and mental benefits:**\\nKabaddi is an excellent team sport that offers numerous physical and mental benefits, including:\\n\\n* Improved cardiovascular fitness\\n* Enhanced coordination and agility\\n* Stronger upper body strength\\n* Better decision-making skills\\n* Reduced stress and improved overall well-being\\n\\nOverall, kabaddi is a thrilling and entertaining sport that requires skill, strategy, and teamwork. If you\\'re interested in learning more about the game or want to try it out, I recommend checking online resources or local clubs for opportunities to play!' additional_kwargs={} response_metadata={'model': 'llama3.2:3b', 'created_at': '2025-06-20T10:22:46.2019505Z', 'done': True, 'done_reason': 'stop', 'total_duration': 49741392300, 'load_duration': 7852263100, 'prompt_eval_count': 34, 'prompt_eval_duration': 3594254800, 'eval_count': 492, 'eval_duration': 38261324400, 'model_name': 'llama3.2:3b'} id='run--94ab876d-5f28-4cfd-861d-b521ca0261ac-0' usage_metadata={'input_tokens': 34, 'output_tokens': 492, 'total_tokens': 526} \n",
      "\n",
      "the content part: \n",
      " Kabaddi is a popular contact team sport that originated in ancient India and has since spread to become a widely played sport across the globe, particularly in Asia. The name \"kabaddi\" comes from the Hindi word \"kabhaddi,\" which means \"hold on\" or \"catch up.\"\n",
      "\n",
      "Here's a brief overview of the game:\n",
      "\n",
      "**Objective:**\n",
      "The objective of kabaddi is for one team to score points by tagging players from the opposing team and returning to their own side without being caught.\n",
      "\n",
      "**Gameplay:**\n",
      "\n",
      "* The game is played between two teams, each consisting of seven players.\n",
      "* One player from the attacking team sends a raider (similar to a point-scorer in other sports) to the opposite team's court.\n",
      "* The raider must touch the floor and hold their breath while chanting \"kabaddi\" to indicate that they are taking possession of an opponent.\n",
      "* The raider can tag multiple players from the opposing team, but each time they do so, they lose some air (time) to breathe. If the raider loses all their remaining air before tagging all the opponents and returning to their own side, the attacking team scores points.\n",
      "* When a raider is tagged by an opponent while holding breath, they must freeze in place until they catch their breath.\n",
      "* Players can also score points through blocks (successful defense) or by making a tackle on the opponent, causing them to lose possession.\n",
      "\n",
      "**Types of kabaddi:**\n",
      "There are two main formats of kabaddi:\n",
      "\n",
      "1. **Revised Kabaddi**: Also known as Indian Kabaddi, this format has undergone significant rule changes to make the game more exciting and safer for players.\n",
      "2. **Pro Kabaddi League (PKL)**: A professional kabaddi league that features international players competing against each other in a tournament-like format.\n",
      "\n",
      "**Physical and mental benefits:**\n",
      "Kabaddi is an excellent team sport that offers numerous physical and mental benefits, including:\n",
      "\n",
      "* Improved cardiovascular fitness\n",
      "* Enhanced coordination and agility\n",
      "* Stronger upper body strength\n",
      "* Better decision-making skills\n",
      "* Reduced stress and improved overall well-being\n",
      "\n",
      "Overall, kabaddi is a thrilling and entertaining sport that requires skill, strategy, and teamwork. If you're interested in learning more about the game or want to try it out, I recommend checking online resources or local clubs for opportunities to play! \n",
      "\n",
      "the metadata part \n",
      " {'model': 'llama3.2:3b', 'created_at': '2025-06-20T10:22:46.2019505Z', 'done': True, 'done_reason': 'stop', 'total_duration': 49741392300, 'load_duration': 7852263100, 'prompt_eval_count': 34, 'prompt_eval_duration': 3594254800, 'eval_count': 492, 'eval_duration': 38261324400, 'model_name': 'llama3.2:3b'} \n",
      "\n"
     ]
    },
    {
     "data": {
      "text/plain": [
       "'token_usage, model, model_version, and other metadata,\\nollama_parameters: A dictionary of the parameters (like temperature, max_tokens, top_k, top_p, seed, etc.), and\\nfinish_reason: Why the model stopped generating (e.g., \"stop\" for natural end, \"length\" for hitting max_tokens).'"
      ]
     },
     "execution_count": 4,
     "metadata": {},
     "output_type": "execute_result"
    }
   ],
   "source": [
    "from langchain_ollama import ChatOllama\n",
    "\n",
    "\"\"\"The ChatOllama class is a specific implementation within LangChain that allows you to interact\n",
    "with large language models (LLMs) served locally via the Ollama platform. It provides a standardized\n",
    "interface for sending prompts and receiving responses from these models. \"\"\"\n",
    "\n",
    "from dotenv import load_dotenv\n",
    "\n",
    "\"\"\"Another important module as it is load variable environment from your .env file, this file is\n",
    "generally used for storing the API keys.\"\"\"\n",
    "\n",
    "load_dotenv()\n",
    "\n",
    "\"\"\"calling the .env file to get the API key.\"\"\"\n",
    "\n",
    "model = ChatOllama(\n",
    "    model = \"llama3.2:3b\",\n",
    "    base_url = \"http://localhost:11434\",\n",
    "    temperature = 1.5,\n",
    "    max_tokens = 1000\n",
    ")\n",
    "\n",
    "\"\"\"creates an instance to connect with the required model of the ollama and also set the other variables\n",
    "like temperature and max_tokens for the randomness(ranging from 0 to 2) and maximum number output tokens\n",
    "respectively, 0 for more repetitive and deterministic while 2 for most random and creative.\"\"\"\n",
    "\n",
    "result = model.invoke(\"What is the game of kabbadi.\")\n",
    "\n",
    "\"\"\"invoke method is used to send the prompt to the model and get the response back and stored in result.\"\"\"\n",
    "\n",
    "print(\"the whole response is: \\n\", result, \"\\n\")\n",
    "\n",
    "\"\"\"it contains content and response_metadata (which holds the \"meta-model\" information you're likely thinking of).\"\"\"\n",
    "\n",
    "print(\"the content part: \\n\", result.content, \"\\n\")\n",
    "\n",
    "print(\"the metadata part \\n\", result.response_metadata,\"\\n\")\n",
    "\n",
    "\"\"\"token_usage, model, model_version, and other metadata,\n",
    "ollama_parameters: A dictionary of the parameters (like temperature, max_tokens, top_k, top_p, seed, etc.), and\n",
    "finish_reason: Why the model stopped generating (e.g., \"stop\" for natural end, \"length\" for hitting max_tokens).\"\"\"\n",
    "\n"
   ]
  }
 ],
 "metadata": {
  "kernelspec": {
   "display_name": "Python 3 (ipykernel)",
   "language": "python",
   "name": "python3"
  },
  "language_info": {
   "codemirror_mode": {
    "name": "ipython",
    "version": 3
   },
   "file_extension": ".py",
   "mimetype": "text/x-python",
   "name": "python",
   "nbconvert_exporter": "python",
   "pygments_lexer": "ipython3",
   "version": "3.12.6"
  }
 },
 "nbformat": 4,
 "nbformat_minor": 5
}
